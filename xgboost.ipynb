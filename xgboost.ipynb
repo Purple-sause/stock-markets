{
 "cells": [
  {
   "cell_type": "code",
   "execution_count": null,
   "id": "0a0b40d4-cbc3-4229-a32f-f605cdda6204",
   "metadata": {},
   "outputs": [],
   "source": [
    "import sys\n",
    "import os\n",
    "packages_path = '/Users/harryvincent/Desktop/python/Stock market/packages'  # Adjust this if your folder is located elsewhere\n",
    "sys.path.append(packages_path)\n",
    "import yfinance as yf\n",
    "print(yf.Ticker(\"APPL\"))"
   ]
  },
  {
   "cell_type": "code",
   "execution_count": null,
   "id": "e4e716fa-5838-40ac-a5de-9fe0e50d1bab",
   "metadata": {},
   "outputs": [],
   "source": [
    "reliance = yf.Ticker(\"RELIANCE.NS\")\n",
    "start_date = \"2011-01-01\"\n",
    "end_date = \"2024-01-01\"\n",
    "\n",
    "# Get historical data with weekly frequency\n",
    "historical_data = reliance.history(start=start_date, end=end_date, interval=\"1wk\")\n",
    "\n",
    "# Select only the closing prices and dates\n",
    "closing_prices = historical_data[['Close']].copy()\n",
    "closing_prices.reset_index(inplace=True)\n",
    "\n",
    "# Display the closing prices with corresponding dates\n",
    "print(closing_prices)\n",
    "\n"
   ]
  },
  {
   "cell_type": "code",
   "execution_count": null,
   "id": "a21e0d40",
   "metadata": {},
   "outputs": [],
   "source": [
    "\n",
    "closing_prices[\"Date\"] =  closing_prices[\"Date\"].dt.date\n",
    "\n",
    "print(closing_prices)"
   ]
  },
  {
   "cell_type": "code",
   "execution_count": null,
   "id": "caefd41c",
   "metadata": {},
   "outputs": [],
   "source": [
    "import pandas as pd\n",
    "oil = pd.read_csv(r\"/Users/harryvincent/Downloads/BrentOilPrices.csv\")\n",
    "oil['Date'] = pd.to_datetime(oil['Date'])  # Set dayfirst=True if your dates are in 'dd-mm-yyyy' format\n",
    "\n",
    "# Filter rows where 'Date' is on or after '2011-03-01'\n",
    "oil = oil[oil['Date'] >= '2011-03-01']\n",
    "print(oil)"
   ]
  },
  {
   "cell_type": "code",
   "execution_count": null,
   "id": "ae032bfc",
   "metadata": {},
   "outputs": [],
   "source": [
    "\n",
    "closing_prices['Date'] = pd.to_datetime(closing_prices['Date'])\n",
    "merged_data = pd.merge(oil, closing_prices, on='Date', how='inner')\n",
    "print(merged_data)"
   ]
  },
  {
   "cell_type": "code",
   "execution_count": null,
   "id": "3be2f9b3",
   "metadata": {},
   "outputs": [],
   "source": [
    "merged_data['Oil_Change'] = merged_data['Price'].pct_change() * 100  # Percent change in oil price\n",
    "merged_data['Stock_Change'] = merged_data['Close'].pct_change() * 100 \n",
    "print(merged_data)"
   ]
  },
  {
   "cell_type": "code",
   "execution_count": null,
   "id": "7bfd279f",
   "metadata": {},
   "outputs": [],
   "source": [
    "import sys\n",
    "import os\n",
    "\n",
    "import xgboost as xgb\n",
    "print(xgb.__version__)\n",
    "import numpy as np\n",
    "from sklearn.model_selection import train_test_split\n",
    "try:\n",
    "    from sklearn.metrics import mean_squared_error\n",
    "    print(\"Import successful!\")\n",
    "except ImportError as e:\n",
    "    print(\"Import failed:\", e)\n",
    "\n",
    "\n"
   ]
  },
  {
   "cell_type": "code",
   "execution_count": null,
   "id": "688bcef8",
   "metadata": {},
   "outputs": [],
   "source": [
    "# Drop NaN values from the percent changes\n",
    "merged_data.dropna(inplace=True)\n",
    "\n",
    "# Define features (oil price change) and target (stock price change)\n",
    "X = merged_data[['Oil_Change']]\n",
    "y = merged_data['Stock_Change']\n",
    "\n",
    "# Split the data into training and test sets\n",
    "X_train, X_test, y_train, y_test = train_test_split(X, y, test_size=0.2, random_state=42)\n",
    "\n",
    "# Set up and train the XGBoost model\n",
    "xgb_model = xgb.XGBRegressor(objective='reg:squarederror', n_estimators=100, learning_rate=0.1, max_depth=3, random_state=42)\n",
    "xgb_model.fit(X_train, y_train)\n",
    "\n",
    "# Make predictions\n",
    "y_pred = xgb_model.predict(X_test)\n",
    "\n",
    "# Evaluate the model\n",
    "mse = mean_squared_error(y_test, y_pred)\n",
    "rmse = np.sqrt(mse)\n",
    "\n",
    "print(\"Root Mean Squared Error (RMSE):\", rmse)"
   ]
  },
  {
   "cell_type": "code",
   "execution_count": null,
   "id": "428468d7",
   "metadata": {},
   "outputs": [],
   "source": [
    "# Sample new data - replace with your actual new data values\n",
    "new_data = pd.DataFrame({'Oil_Change': [2.5, -1.3, 4.1]})  # Example percent changes in oil price\n",
    "\n",
    "# Make predictions with the new input data\n",
    "new_predictions = xgb_model.predict(new_data)\n",
    "\n",
    "# Display predicted values\n",
    "print(\"Predicted Stock Changes:\", new_predictions)\n"
   ]
  },
  {
   "cell_type": "code",
   "execution_count": null,
   "id": "36ee8243",
   "metadata": {},
   "outputs": [],
   "source": []
  }
 ],
 "metadata": {
  "kernelspec": {
   "display_name": "Python 3",
   "language": "python",
   "name": "python3"
  },
  "language_info": {
   "codemirror_mode": {
    "name": "ipython",
    "version": 3
   },
   "file_extension": ".py",
   "mimetype": "text/x-python",
   "name": "python",
   "nbconvert_exporter": "python",
   "pygments_lexer": "ipython3",
   "version": "3.13.0"
  }
 },
 "nbformat": 4,
 "nbformat_minor": 5
}
