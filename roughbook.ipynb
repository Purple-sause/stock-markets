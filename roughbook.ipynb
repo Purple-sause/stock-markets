{
 "cells": [
  {
   "cell_type": "code",
   "execution_count": null,
   "id": "e60efad2",
   "metadata": {},
   "outputs": [],
   "source": [
    "import requests\n",
    "\n",
    "session = requests.Session()\n",
    "headers = {\n",
    "    \"authority\": \"play.google.com\",\n",
    "    \"method\": \"GET\",\n",
    "    \"path\": \"/store/apps/details?id=com.application.zomato&hl=en_IN\",\n",
    "    \"scheme\": \"https\",\n",
    "    \"accept\": \"text/html,application/xhtml+xml,application/xml;q=0.9,image/avif,image/webp,image/apng,*/*;q=0.8,application/signed-exchange;v=b3;q=0.7\",\n",
    "    \"accept-encoding\": \"gzip, deflate, br, zstd\",\n",
    "    \n",
    "    \"accept-language\": \"en-US,en;q=0.9\",\n",
    "    \"cache-control\": \"no-cache\",\n",
    "    \"cookie\": \"HSID=ACtG39a65BrIJdtS2; SSID=AkKHMja5q4eo_3A6A; APISID=BULxLE5bD7lPrSp7/A6WRywui2TsvAyJ8D\",\n",
    "    \"user-agent\": \"Mozilla/5.0 (Windows NT 10.0; Win64; x64) AppleWebKit/537.36 (KHTML, like Gecko) Chrome/120.0.0.0 Safari/537.36\"\n",
    "}\n",
    "file = session.get(\"https://play.google.com/store/apps/details?id=com.application.zomato&hl=en_IN\",headers=headers)\n",
    "print(file.text)"
   ]
  },
  {
   "cell_type": "code",
   "execution_count": null,
   "id": "d233f3d0",
   "metadata": {},
   "outputs": [],
   "source": [
    "import requests\n",
    "session = requests.Session()\n",
    "headers = {\n",
    "    \"authority\": \"play.google.com\",\n",
    "    \"method\": \"GET\",\n",
    "    \"path\": \"/store/apps/details?id=com.application.zomato&hl=en_IN\",\n",
    "    \"scheme\": \"https\",\n",
    "    \"accept\": \"text/html,application/xhtml+xml,application/xml;q=0.9,image/avif,image/webp,image/apng,*/*;q=0.8,application/signed-exchange;v=b3;q=0.7\",\n",
    "    \"accept-encoding\": \"gzip, deflate, br, zstd\",\n",
    "    \"date\": \"Sun, 02 Feb 2025 10:20:53 GMT\",\n",
    "\n",
    "    \"accept-language\": \"en-US,en;q=0.9\",\n",
    "    \"cache-control\": \"no-cache\",\n",
    "    \"cookie\": \"HSID=ACtG39a65BrIJdtS2; SSID=AkKHMja5q4eo_3A6A; APISID=BULxLE5bD7lPrSp7/A6WRywui2TsvAyJ8D\",\n",
    "    \"user-agent\": \"Mozilla/5.0 (Windows NT 10.0; Win64; x64) AppleWebKit/537.36 (KHTML, like Gecko) Chrome/120.0.0.0 Safari/537.36\"\n",
    "}\n",
    "file = session.get(\"https://play.google.com/store/apps/details?id=com.application.zomato&hl=en_IN\",headers=headers)\n",
    "print(file.text)"
   ]
  }
 ],
 "metadata": {
  "kernelspec": {
   "display_name": "Python 3",
   "language": "python",
   "name": "python3"
  },
  "language_info": {
   "codemirror_mode": {
    "name": "ipython",
    "version": 3
   },
   "file_extension": ".py",
   "mimetype": "text/x-python",
   "name": "python",
   "nbconvert_exporter": "python",
   "pygments_lexer": "ipython3",
   "version": "3.13.0"
  }
 },
 "nbformat": 4,
 "nbformat_minor": 5
}
